{
 "cells": [
  {
   "cell_type": "code",
   "execution_count": 266,
   "id": "small-commerce",
   "metadata": {},
   "outputs": [],
   "source": [
    "import numpy as np\n",
    "import pandas as pd\n",
    "from matplotlib import pyplot as plt \n",
    "\n",
    "from sklearn import tree\n",
    "from sklearn.ensemble import RandomForestClassifier\n",
    "from sklearn.model_selection import train_test_split\n",
    "from sklearn.metrics import precision_score, recall_score, accuracy_score, f1_score, log_loss, roc_curve, roc_auc_score, precision_recall_curve"
   ]
  },
  {
   "cell_type": "code",
   "execution_count": 267,
   "id": "anonymous-cancellation",
   "metadata": {},
   "outputs": [],
   "source": [
    "%matplotlib inline"
   ]
  },
  {
   "cell_type": "markdown",
   "id": "subtle-logan",
   "metadata": {},
   "source": [
    "### Explore the data"
   ]
  },
  {
   "cell_type": "code",
   "execution_count": 268,
   "id": "sacred-container",
   "metadata": {},
   "outputs": [],
   "source": [
    "df = pd.read_csv('data/bioresponse.csv', header=0)"
   ]
  },
  {
   "cell_type": "code",
   "execution_count": 269,
   "id": "basic-springfield",
   "metadata": {},
   "outputs": [
    {
     "data": {
      "text/html": [
       "<div>\n",
       "<style scoped>\n",
       "    .dataframe tbody tr th:only-of-type {\n",
       "        vertical-align: middle;\n",
       "    }\n",
       "\n",
       "    .dataframe tbody tr th {\n",
       "        vertical-align: top;\n",
       "    }\n",
       "\n",
       "    .dataframe thead th {\n",
       "        text-align: right;\n",
       "    }\n",
       "</style>\n",
       "<table border=\"1\" class=\"dataframe\">\n",
       "  <thead>\n",
       "    <tr style=\"text-align: right;\">\n",
       "      <th></th>\n",
       "      <th>Activity</th>\n",
       "      <th>D1</th>\n",
       "      <th>D2</th>\n",
       "      <th>D3</th>\n",
       "      <th>D4</th>\n",
       "      <th>D5</th>\n",
       "      <th>D6</th>\n",
       "      <th>D7</th>\n",
       "      <th>D8</th>\n",
       "      <th>D9</th>\n",
       "      <th>...</th>\n",
       "      <th>D1767</th>\n",
       "      <th>D1768</th>\n",
       "      <th>D1769</th>\n",
       "      <th>D1770</th>\n",
       "      <th>D1771</th>\n",
       "      <th>D1772</th>\n",
       "      <th>D1773</th>\n",
       "      <th>D1774</th>\n",
       "      <th>D1775</th>\n",
       "      <th>D1776</th>\n",
       "    </tr>\n",
       "  </thead>\n",
       "  <tbody>\n",
       "    <tr>\n",
       "      <th>0</th>\n",
       "      <td>1</td>\n",
       "      <td>0.000000</td>\n",
       "      <td>0.497009</td>\n",
       "      <td>0.10</td>\n",
       "      <td>0.0</td>\n",
       "      <td>0.132956</td>\n",
       "      <td>0.678031</td>\n",
       "      <td>0.273166</td>\n",
       "      <td>0.585445</td>\n",
       "      <td>0.743663</td>\n",
       "      <td>...</td>\n",
       "      <td>0</td>\n",
       "      <td>0</td>\n",
       "      <td>0</td>\n",
       "      <td>0</td>\n",
       "      <td>0</td>\n",
       "      <td>0</td>\n",
       "      <td>0</td>\n",
       "      <td>0</td>\n",
       "      <td>0</td>\n",
       "      <td>0</td>\n",
       "    </tr>\n",
       "    <tr>\n",
       "      <th>1</th>\n",
       "      <td>1</td>\n",
       "      <td>0.366667</td>\n",
       "      <td>0.606291</td>\n",
       "      <td>0.05</td>\n",
       "      <td>0.0</td>\n",
       "      <td>0.111209</td>\n",
       "      <td>0.803455</td>\n",
       "      <td>0.106105</td>\n",
       "      <td>0.411754</td>\n",
       "      <td>0.836582</td>\n",
       "      <td>...</td>\n",
       "      <td>1</td>\n",
       "      <td>1</td>\n",
       "      <td>1</td>\n",
       "      <td>1</td>\n",
       "      <td>0</td>\n",
       "      <td>1</td>\n",
       "      <td>0</td>\n",
       "      <td>0</td>\n",
       "      <td>1</td>\n",
       "      <td>0</td>\n",
       "    </tr>\n",
       "    <tr>\n",
       "      <th>2</th>\n",
       "      <td>1</td>\n",
       "      <td>0.033300</td>\n",
       "      <td>0.480124</td>\n",
       "      <td>0.00</td>\n",
       "      <td>0.0</td>\n",
       "      <td>0.209791</td>\n",
       "      <td>0.610350</td>\n",
       "      <td>0.356453</td>\n",
       "      <td>0.517720</td>\n",
       "      <td>0.679051</td>\n",
       "      <td>...</td>\n",
       "      <td>0</td>\n",
       "      <td>0</td>\n",
       "      <td>0</td>\n",
       "      <td>0</td>\n",
       "      <td>0</td>\n",
       "      <td>0</td>\n",
       "      <td>0</td>\n",
       "      <td>0</td>\n",
       "      <td>0</td>\n",
       "      <td>0</td>\n",
       "    </tr>\n",
       "    <tr>\n",
       "      <th>3</th>\n",
       "      <td>1</td>\n",
       "      <td>0.000000</td>\n",
       "      <td>0.538825</td>\n",
       "      <td>0.00</td>\n",
       "      <td>0.5</td>\n",
       "      <td>0.196344</td>\n",
       "      <td>0.724230</td>\n",
       "      <td>0.235606</td>\n",
       "      <td>0.288764</td>\n",
       "      <td>0.805110</td>\n",
       "      <td>...</td>\n",
       "      <td>0</td>\n",
       "      <td>0</td>\n",
       "      <td>0</td>\n",
       "      <td>0</td>\n",
       "      <td>0</td>\n",
       "      <td>0</td>\n",
       "      <td>0</td>\n",
       "      <td>0</td>\n",
       "      <td>0</td>\n",
       "      <td>0</td>\n",
       "    </tr>\n",
       "    <tr>\n",
       "      <th>4</th>\n",
       "      <td>0</td>\n",
       "      <td>0.100000</td>\n",
       "      <td>0.517794</td>\n",
       "      <td>0.00</td>\n",
       "      <td>0.0</td>\n",
       "      <td>0.494734</td>\n",
       "      <td>0.781422</td>\n",
       "      <td>0.154361</td>\n",
       "      <td>0.303809</td>\n",
       "      <td>0.812646</td>\n",
       "      <td>...</td>\n",
       "      <td>0</td>\n",
       "      <td>0</td>\n",
       "      <td>0</td>\n",
       "      <td>0</td>\n",
       "      <td>0</td>\n",
       "      <td>0</td>\n",
       "      <td>0</td>\n",
       "      <td>0</td>\n",
       "      <td>0</td>\n",
       "      <td>0</td>\n",
       "    </tr>\n",
       "    <tr>\n",
       "      <th>...</th>\n",
       "      <td>...</td>\n",
       "      <td>...</td>\n",
       "      <td>...</td>\n",
       "      <td>...</td>\n",
       "      <td>...</td>\n",
       "      <td>...</td>\n",
       "      <td>...</td>\n",
       "      <td>...</td>\n",
       "      <td>...</td>\n",
       "      <td>...</td>\n",
       "      <td>...</td>\n",
       "      <td>...</td>\n",
       "      <td>...</td>\n",
       "      <td>...</td>\n",
       "      <td>...</td>\n",
       "      <td>...</td>\n",
       "      <td>...</td>\n",
       "      <td>...</td>\n",
       "      <td>...</td>\n",
       "      <td>...</td>\n",
       "      <td>...</td>\n",
       "    </tr>\n",
       "    <tr>\n",
       "      <th>3746</th>\n",
       "      <td>1</td>\n",
       "      <td>0.033300</td>\n",
       "      <td>0.506409</td>\n",
       "      <td>0.10</td>\n",
       "      <td>0.0</td>\n",
       "      <td>0.209887</td>\n",
       "      <td>0.633426</td>\n",
       "      <td>0.297659</td>\n",
       "      <td>0.376124</td>\n",
       "      <td>0.727093</td>\n",
       "      <td>...</td>\n",
       "      <td>0</td>\n",
       "      <td>0</td>\n",
       "      <td>0</td>\n",
       "      <td>0</td>\n",
       "      <td>0</td>\n",
       "      <td>0</td>\n",
       "      <td>0</td>\n",
       "      <td>0</td>\n",
       "      <td>0</td>\n",
       "      <td>0</td>\n",
       "    </tr>\n",
       "    <tr>\n",
       "      <th>3747</th>\n",
       "      <td>1</td>\n",
       "      <td>0.133333</td>\n",
       "      <td>0.651023</td>\n",
       "      <td>0.15</td>\n",
       "      <td>0.0</td>\n",
       "      <td>0.151154</td>\n",
       "      <td>0.766505</td>\n",
       "      <td>0.170876</td>\n",
       "      <td>0.404546</td>\n",
       "      <td>0.787935</td>\n",
       "      <td>...</td>\n",
       "      <td>0</td>\n",
       "      <td>0</td>\n",
       "      <td>1</td>\n",
       "      <td>0</td>\n",
       "      <td>1</td>\n",
       "      <td>0</td>\n",
       "      <td>1</td>\n",
       "      <td>0</td>\n",
       "      <td>0</td>\n",
       "      <td>0</td>\n",
       "    </tr>\n",
       "    <tr>\n",
       "      <th>3748</th>\n",
       "      <td>0</td>\n",
       "      <td>0.200000</td>\n",
       "      <td>0.520564</td>\n",
       "      <td>0.00</td>\n",
       "      <td>0.0</td>\n",
       "      <td>0.179949</td>\n",
       "      <td>0.768785</td>\n",
       "      <td>0.177341</td>\n",
       "      <td>0.471179</td>\n",
       "      <td>0.872241</td>\n",
       "      <td>...</td>\n",
       "      <td>0</td>\n",
       "      <td>0</td>\n",
       "      <td>0</td>\n",
       "      <td>0</td>\n",
       "      <td>0</td>\n",
       "      <td>0</td>\n",
       "      <td>0</td>\n",
       "      <td>0</td>\n",
       "      <td>0</td>\n",
       "      <td>0</td>\n",
       "    </tr>\n",
       "    <tr>\n",
       "      <th>3749</th>\n",
       "      <td>1</td>\n",
       "      <td>0.100000</td>\n",
       "      <td>0.765646</td>\n",
       "      <td>0.00</td>\n",
       "      <td>0.0</td>\n",
       "      <td>0.536954</td>\n",
       "      <td>0.634936</td>\n",
       "      <td>0.342713</td>\n",
       "      <td>0.447162</td>\n",
       "      <td>0.672689</td>\n",
       "      <td>...</td>\n",
       "      <td>0</td>\n",
       "      <td>0</td>\n",
       "      <td>0</td>\n",
       "      <td>0</td>\n",
       "      <td>0</td>\n",
       "      <td>0</td>\n",
       "      <td>0</td>\n",
       "      <td>0</td>\n",
       "      <td>0</td>\n",
       "      <td>0</td>\n",
       "    </tr>\n",
       "    <tr>\n",
       "      <th>3750</th>\n",
       "      <td>0</td>\n",
       "      <td>0.133333</td>\n",
       "      <td>0.533952</td>\n",
       "      <td>0.00</td>\n",
       "      <td>0.0</td>\n",
       "      <td>0.347966</td>\n",
       "      <td>0.757971</td>\n",
       "      <td>0.230667</td>\n",
       "      <td>0.272652</td>\n",
       "      <td>0.854116</td>\n",
       "      <td>...</td>\n",
       "      <td>0</td>\n",
       "      <td>0</td>\n",
       "      <td>0</td>\n",
       "      <td>0</td>\n",
       "      <td>0</td>\n",
       "      <td>0</td>\n",
       "      <td>0</td>\n",
       "      <td>0</td>\n",
       "      <td>0</td>\n",
       "      <td>0</td>\n",
       "    </tr>\n",
       "  </tbody>\n",
       "</table>\n",
       "<p>3751 rows × 1777 columns</p>\n",
       "</div>"
      ],
      "text/plain": [
       "      Activity        D1        D2    D3   D4        D5        D6        D7  \\\n",
       "0            1  0.000000  0.497009  0.10  0.0  0.132956  0.678031  0.273166   \n",
       "1            1  0.366667  0.606291  0.05  0.0  0.111209  0.803455  0.106105   \n",
       "2            1  0.033300  0.480124  0.00  0.0  0.209791  0.610350  0.356453   \n",
       "3            1  0.000000  0.538825  0.00  0.5  0.196344  0.724230  0.235606   \n",
       "4            0  0.100000  0.517794  0.00  0.0  0.494734  0.781422  0.154361   \n",
       "...        ...       ...       ...   ...  ...       ...       ...       ...   \n",
       "3746         1  0.033300  0.506409  0.10  0.0  0.209887  0.633426  0.297659   \n",
       "3747         1  0.133333  0.651023  0.15  0.0  0.151154  0.766505  0.170876   \n",
       "3748         0  0.200000  0.520564  0.00  0.0  0.179949  0.768785  0.177341   \n",
       "3749         1  0.100000  0.765646  0.00  0.0  0.536954  0.634936  0.342713   \n",
       "3750         0  0.133333  0.533952  0.00  0.0  0.347966  0.757971  0.230667   \n",
       "\n",
       "            D8        D9  ...  D1767  D1768  D1769  D1770  D1771  D1772  \\\n",
       "0     0.585445  0.743663  ...      0      0      0      0      0      0   \n",
       "1     0.411754  0.836582  ...      1      1      1      1      0      1   \n",
       "2     0.517720  0.679051  ...      0      0      0      0      0      0   \n",
       "3     0.288764  0.805110  ...      0      0      0      0      0      0   \n",
       "4     0.303809  0.812646  ...      0      0      0      0      0      0   \n",
       "...        ...       ...  ...    ...    ...    ...    ...    ...    ...   \n",
       "3746  0.376124  0.727093  ...      0      0      0      0      0      0   \n",
       "3747  0.404546  0.787935  ...      0      0      1      0      1      0   \n",
       "3748  0.471179  0.872241  ...      0      0      0      0      0      0   \n",
       "3749  0.447162  0.672689  ...      0      0      0      0      0      0   \n",
       "3750  0.272652  0.854116  ...      0      0      0      0      0      0   \n",
       "\n",
       "      D1773  D1774  D1775  D1776  \n",
       "0         0      0      0      0  \n",
       "1         0      0      1      0  \n",
       "2         0      0      0      0  \n",
       "3         0      0      0      0  \n",
       "4         0      0      0      0  \n",
       "...     ...    ...    ...    ...  \n",
       "3746      0      0      0      0  \n",
       "3747      1      0      0      0  \n",
       "3748      0      0      0      0  \n",
       "3749      0      0      0      0  \n",
       "3750      0      0      0      0  \n",
       "\n",
       "[3751 rows x 1777 columns]"
      ]
     },
     "execution_count": 269,
     "metadata": {},
     "output_type": "execute_result"
    }
   ],
   "source": [
    "df"
   ]
  },
  {
   "cell_type": "code",
   "execution_count": 270,
   "id": "nuclear-ireland",
   "metadata": {},
   "outputs": [],
   "source": [
    "# Split data into train and test sets\n",
    "train_data, test_data = train_test_split(df, test_size = 0.3, train_size=0.7, random_state = 1)"
   ]
  },
  {
   "cell_type": "code",
   "execution_count": 271,
   "id": "premium-semiconductor",
   "metadata": {},
   "outputs": [
    {
     "data": {
      "text/html": [
       "<div>\n",
       "<style scoped>\n",
       "    .dataframe tbody tr th:only-of-type {\n",
       "        vertical-align: middle;\n",
       "    }\n",
       "\n",
       "    .dataframe tbody tr th {\n",
       "        vertical-align: top;\n",
       "    }\n",
       "\n",
       "    .dataframe thead th {\n",
       "        text-align: right;\n",
       "    }\n",
       "</style>\n",
       "<table border=\"1\" class=\"dataframe\">\n",
       "  <thead>\n",
       "    <tr style=\"text-align: right;\">\n",
       "      <th></th>\n",
       "      <th>Activity</th>\n",
       "      <th>D1</th>\n",
       "      <th>D2</th>\n",
       "      <th>D3</th>\n",
       "      <th>D4</th>\n",
       "      <th>D5</th>\n",
       "      <th>D6</th>\n",
       "      <th>D7</th>\n",
       "      <th>D8</th>\n",
       "      <th>D9</th>\n",
       "      <th>...</th>\n",
       "      <th>D1767</th>\n",
       "      <th>D1768</th>\n",
       "      <th>D1769</th>\n",
       "      <th>D1770</th>\n",
       "      <th>D1771</th>\n",
       "      <th>D1772</th>\n",
       "      <th>D1773</th>\n",
       "      <th>D1774</th>\n",
       "      <th>D1775</th>\n",
       "      <th>D1776</th>\n",
       "    </tr>\n",
       "  </thead>\n",
       "  <tbody>\n",
       "    <tr>\n",
       "      <th>1082</th>\n",
       "      <td>0</td>\n",
       "      <td>0.166667</td>\n",
       "      <td>0.845130</td>\n",
       "      <td>0.10</td>\n",
       "      <td>0.25</td>\n",
       "      <td>0.201773</td>\n",
       "      <td>0.692522</td>\n",
       "      <td>0.255605</td>\n",
       "      <td>0.585445</td>\n",
       "      <td>0.708156</td>\n",
       "      <td>...</td>\n",
       "      <td>0</td>\n",
       "      <td>0</td>\n",
       "      <td>0</td>\n",
       "      <td>0</td>\n",
       "      <td>0</td>\n",
       "      <td>0</td>\n",
       "      <td>0</td>\n",
       "      <td>0</td>\n",
       "      <td>0</td>\n",
       "      <td>0</td>\n",
       "    </tr>\n",
       "    <tr>\n",
       "      <th>3748</th>\n",
       "      <td>0</td>\n",
       "      <td>0.200000</td>\n",
       "      <td>0.520564</td>\n",
       "      <td>0.00</td>\n",
       "      <td>0.00</td>\n",
       "      <td>0.179949</td>\n",
       "      <td>0.768785</td>\n",
       "      <td>0.177341</td>\n",
       "      <td>0.471179</td>\n",
       "      <td>0.872241</td>\n",
       "      <td>...</td>\n",
       "      <td>0</td>\n",
       "      <td>0</td>\n",
       "      <td>0</td>\n",
       "      <td>0</td>\n",
       "      <td>0</td>\n",
       "      <td>0</td>\n",
       "      <td>0</td>\n",
       "      <td>0</td>\n",
       "      <td>0</td>\n",
       "      <td>0</td>\n",
       "    </tr>\n",
       "    <tr>\n",
       "      <th>2694</th>\n",
       "      <td>1</td>\n",
       "      <td>0.000000</td>\n",
       "      <td>0.513633</td>\n",
       "      <td>0.10</td>\n",
       "      <td>0.00</td>\n",
       "      <td>0.133017</td>\n",
       "      <td>0.600205</td>\n",
       "      <td>0.284122</td>\n",
       "      <td>0.585445</td>\n",
       "      <td>0.689901</td>\n",
       "      <td>...</td>\n",
       "      <td>0</td>\n",
       "      <td>0</td>\n",
       "      <td>0</td>\n",
       "      <td>0</td>\n",
       "      <td>0</td>\n",
       "      <td>0</td>\n",
       "      <td>0</td>\n",
       "      <td>0</td>\n",
       "      <td>0</td>\n",
       "      <td>0</td>\n",
       "    </tr>\n",
       "    <tr>\n",
       "      <th>1647</th>\n",
       "      <td>0</td>\n",
       "      <td>0.033300</td>\n",
       "      <td>0.699499</td>\n",
       "      <td>0.05</td>\n",
       "      <td>0.00</td>\n",
       "      <td>0.246230</td>\n",
       "      <td>0.543822</td>\n",
       "      <td>0.449909</td>\n",
       "      <td>0.662678</td>\n",
       "      <td>0.642920</td>\n",
       "      <td>...</td>\n",
       "      <td>0</td>\n",
       "      <td>0</td>\n",
       "      <td>0</td>\n",
       "      <td>0</td>\n",
       "      <td>0</td>\n",
       "      <td>0</td>\n",
       "      <td>0</td>\n",
       "      <td>0</td>\n",
       "      <td>0</td>\n",
       "      <td>0</td>\n",
       "    </tr>\n",
       "    <tr>\n",
       "      <th>607</th>\n",
       "      <td>1</td>\n",
       "      <td>0.066700</td>\n",
       "      <td>0.742629</td>\n",
       "      <td>0.20</td>\n",
       "      <td>0.00</td>\n",
       "      <td>0.118101</td>\n",
       "      <td>0.620825</td>\n",
       "      <td>0.296164</td>\n",
       "      <td>0.580159</td>\n",
       "      <td>0.673341</td>\n",
       "      <td>...</td>\n",
       "      <td>0</td>\n",
       "      <td>0</td>\n",
       "      <td>0</td>\n",
       "      <td>0</td>\n",
       "      <td>0</td>\n",
       "      <td>0</td>\n",
       "      <td>0</td>\n",
       "      <td>0</td>\n",
       "      <td>0</td>\n",
       "      <td>0</td>\n",
       "    </tr>\n",
       "    <tr>\n",
       "      <th>...</th>\n",
       "      <td>...</td>\n",
       "      <td>...</td>\n",
       "      <td>...</td>\n",
       "      <td>...</td>\n",
       "      <td>...</td>\n",
       "      <td>...</td>\n",
       "      <td>...</td>\n",
       "      <td>...</td>\n",
       "      <td>...</td>\n",
       "      <td>...</td>\n",
       "      <td>...</td>\n",
       "      <td>...</td>\n",
       "      <td>...</td>\n",
       "      <td>...</td>\n",
       "      <td>...</td>\n",
       "      <td>...</td>\n",
       "      <td>...</td>\n",
       "      <td>...</td>\n",
       "      <td>...</td>\n",
       "      <td>...</td>\n",
       "      <td>...</td>\n",
       "    </tr>\n",
       "    <tr>\n",
       "      <th>2763</th>\n",
       "      <td>1</td>\n",
       "      <td>0.066700</td>\n",
       "      <td>0.558369</td>\n",
       "      <td>0.05</td>\n",
       "      <td>0.00</td>\n",
       "      <td>0.221304</td>\n",
       "      <td>0.763411</td>\n",
       "      <td>0.217283</td>\n",
       "      <td>0.296132</td>\n",
       "      <td>0.850644</td>\n",
       "      <td>...</td>\n",
       "      <td>0</td>\n",
       "      <td>0</td>\n",
       "      <td>0</td>\n",
       "      <td>0</td>\n",
       "      <td>0</td>\n",
       "      <td>0</td>\n",
       "      <td>0</td>\n",
       "      <td>0</td>\n",
       "      <td>0</td>\n",
       "      <td>0</td>\n",
       "    </tr>\n",
       "    <tr>\n",
       "      <th>905</th>\n",
       "      <td>1</td>\n",
       "      <td>0.000000</td>\n",
       "      <td>0.660245</td>\n",
       "      <td>0.10</td>\n",
       "      <td>0.00</td>\n",
       "      <td>0.141600</td>\n",
       "      <td>0.611352</td>\n",
       "      <td>0.396943</td>\n",
       "      <td>0.612558</td>\n",
       "      <td>0.703160</td>\n",
       "      <td>...</td>\n",
       "      <td>0</td>\n",
       "      <td>0</td>\n",
       "      <td>0</td>\n",
       "      <td>0</td>\n",
       "      <td>0</td>\n",
       "      <td>0</td>\n",
       "      <td>0</td>\n",
       "      <td>0</td>\n",
       "      <td>0</td>\n",
       "      <td>0</td>\n",
       "    </tr>\n",
       "    <tr>\n",
       "      <th>1096</th>\n",
       "      <td>0</td>\n",
       "      <td>0.000000</td>\n",
       "      <td>0.502836</td>\n",
       "      <td>0.00</td>\n",
       "      <td>0.00</td>\n",
       "      <td>0.254729</td>\n",
       "      <td>0.602604</td>\n",
       "      <td>0.381471</td>\n",
       "      <td>0.562734</td>\n",
       "      <td>0.702913</td>\n",
       "      <td>...</td>\n",
       "      <td>0</td>\n",
       "      <td>0</td>\n",
       "      <td>0</td>\n",
       "      <td>0</td>\n",
       "      <td>0</td>\n",
       "      <td>0</td>\n",
       "      <td>0</td>\n",
       "      <td>0</td>\n",
       "      <td>0</td>\n",
       "      <td>0</td>\n",
       "    </tr>\n",
       "    <tr>\n",
       "      <th>235</th>\n",
       "      <td>1</td>\n",
       "      <td>0.066700</td>\n",
       "      <td>0.595049</td>\n",
       "      <td>0.15</td>\n",
       "      <td>0.25</td>\n",
       "      <td>0.176495</td>\n",
       "      <td>0.771636</td>\n",
       "      <td>0.215249</td>\n",
       "      <td>0.460723</td>\n",
       "      <td>0.829922</td>\n",
       "      <td>...</td>\n",
       "      <td>1</td>\n",
       "      <td>0</td>\n",
       "      <td>1</td>\n",
       "      <td>1</td>\n",
       "      <td>0</td>\n",
       "      <td>0</td>\n",
       "      <td>0</td>\n",
       "      <td>0</td>\n",
       "      <td>0</td>\n",
       "      <td>1</td>\n",
       "    </tr>\n",
       "    <tr>\n",
       "      <th>1061</th>\n",
       "      <td>0</td>\n",
       "      <td>0.466667</td>\n",
       "      <td>0.624108</td>\n",
       "      <td>0.10</td>\n",
       "      <td>0.00</td>\n",
       "      <td>0.083200</td>\n",
       "      <td>0.816264</td>\n",
       "      <td>0.097200</td>\n",
       "      <td>0.389793</td>\n",
       "      <td>0.837612</td>\n",
       "      <td>...</td>\n",
       "      <td>1</td>\n",
       "      <td>1</td>\n",
       "      <td>1</td>\n",
       "      <td>1</td>\n",
       "      <td>1</td>\n",
       "      <td>1</td>\n",
       "      <td>0</td>\n",
       "      <td>0</td>\n",
       "      <td>1</td>\n",
       "      <td>0</td>\n",
       "    </tr>\n",
       "  </tbody>\n",
       "</table>\n",
       "<p>2625 rows × 1777 columns</p>\n",
       "</div>"
      ],
      "text/plain": [
       "      Activity        D1        D2    D3    D4        D5        D6        D7  \\\n",
       "1082         0  0.166667  0.845130  0.10  0.25  0.201773  0.692522  0.255605   \n",
       "3748         0  0.200000  0.520564  0.00  0.00  0.179949  0.768785  0.177341   \n",
       "2694         1  0.000000  0.513633  0.10  0.00  0.133017  0.600205  0.284122   \n",
       "1647         0  0.033300  0.699499  0.05  0.00  0.246230  0.543822  0.449909   \n",
       "607          1  0.066700  0.742629  0.20  0.00  0.118101  0.620825  0.296164   \n",
       "...        ...       ...       ...   ...   ...       ...       ...       ...   \n",
       "2763         1  0.066700  0.558369  0.05  0.00  0.221304  0.763411  0.217283   \n",
       "905          1  0.000000  0.660245  0.10  0.00  0.141600  0.611352  0.396943   \n",
       "1096         0  0.000000  0.502836  0.00  0.00  0.254729  0.602604  0.381471   \n",
       "235          1  0.066700  0.595049  0.15  0.25  0.176495  0.771636  0.215249   \n",
       "1061         0  0.466667  0.624108  0.10  0.00  0.083200  0.816264  0.097200   \n",
       "\n",
       "            D8        D9  ...  D1767  D1768  D1769  D1770  D1771  D1772  \\\n",
       "1082  0.585445  0.708156  ...      0      0      0      0      0      0   \n",
       "3748  0.471179  0.872241  ...      0      0      0      0      0      0   \n",
       "2694  0.585445  0.689901  ...      0      0      0      0      0      0   \n",
       "1647  0.662678  0.642920  ...      0      0      0      0      0      0   \n",
       "607   0.580159  0.673341  ...      0      0      0      0      0      0   \n",
       "...        ...       ...  ...    ...    ...    ...    ...    ...    ...   \n",
       "2763  0.296132  0.850644  ...      0      0      0      0      0      0   \n",
       "905   0.612558  0.703160  ...      0      0      0      0      0      0   \n",
       "1096  0.562734  0.702913  ...      0      0      0      0      0      0   \n",
       "235   0.460723  0.829922  ...      1      0      1      1      0      0   \n",
       "1061  0.389793  0.837612  ...      1      1      1      1      1      1   \n",
       "\n",
       "      D1773  D1774  D1775  D1776  \n",
       "1082      0      0      0      0  \n",
       "3748      0      0      0      0  \n",
       "2694      0      0      0      0  \n",
       "1647      0      0      0      0  \n",
       "607       0      0      0      0  \n",
       "...     ...    ...    ...    ...  \n",
       "2763      0      0      0      0  \n",
       "905       0      0      0      0  \n",
       "1096      0      0      0      0  \n",
       "235       0      0      0      1  \n",
       "1061      0      0      1      0  \n",
       "\n",
       "[2625 rows x 1777 columns]"
      ]
     },
     "execution_count": 271,
     "metadata": {},
     "output_type": "execute_result"
    }
   ],
   "source": [
    "train_data"
   ]
  },
  {
   "cell_type": "code",
   "execution_count": 272,
   "id": "medical-december",
   "metadata": {},
   "outputs": [],
   "source": [
    "# Organization X and y data sets\n",
    "train_X = train_data.drop(columns=['Activity'])\n",
    "train_y = train_data['Activity']\n",
    "\n",
    "test_X = test_data.drop(columns=['Activity'])\n",
    "test_y = test_data['Activity']"
   ]
  },
  {
   "cell_type": "code",
   "execution_count": 273,
   "id": "insured-referral",
   "metadata": {},
   "outputs": [
    {
     "data": {
      "text/plain": [
       "1082    0\n",
       "3748    0\n",
       "2694    1\n",
       "1647    0\n",
       "607     1\n",
       "       ..\n",
       "2763    1\n",
       "905     1\n",
       "1096    0\n",
       "235     1\n",
       "1061    0\n",
       "Name: Activity, Length: 2625, dtype: int64"
      ]
     },
     "execution_count": 273,
     "metadata": {},
     "output_type": "execute_result"
    }
   ],
   "source": [
    "train_y"
   ]
  },
  {
   "cell_type": "markdown",
   "id": "negative-campaign",
   "metadata": {},
   "source": [
    "### Decision Tree Classifier"
   ]
  },
  {
   "cell_type": "markdown",
   "id": "exposed-costume",
   "metadata": {},
   "source": [
    "### Small decision tree"
   ]
  },
  {
   "cell_type": "code",
   "execution_count": 274,
   "id": "representative-occasions",
   "metadata": {},
   "outputs": [
    {
     "data": {
      "text/plain": [
       "DecisionTreeClassifier(max_depth=2, random_state=100)"
      ]
     },
     "execution_count": 274,
     "metadata": {},
     "output_type": "execute_result"
    }
   ],
   "source": [
    "# Small Decision Tree\n",
    "clf = tree.DecisionTreeClassifier(random_state=100, max_depth=2)\n",
    "clf.fit(train_X, train_y)"
   ]
  },
  {
   "cell_type": "code",
   "execution_count": 279,
   "id": "accomplished-disposal",
   "metadata": {},
   "outputs": [],
   "source": [
    "# Make predictions for test data\n",
    "predictions = clf.predict(test_X)"
   ]
  },
  {
   "cell_type": "code",
   "execution_count": 280,
   "id": "banner-still",
   "metadata": {},
   "outputs": [
    {
     "data": {
      "text/plain": [
       "array([1, 0, 0, ..., 0, 1, 0])"
      ]
     },
     "execution_count": 280,
     "metadata": {},
     "output_type": "execute_result"
    }
   ],
   "source": [
    "predictions"
   ]
  },
  {
   "cell_type": "code",
   "execution_count": 281,
   "id": "retired-relaxation",
   "metadata": {},
   "outputs": [],
   "source": [
    "# Got the probalities for classes\n",
    "proba = clf.predict_proba(test_X)"
   ]
  },
  {
   "cell_type": "markdown",
   "id": "descending-cleaner",
   "metadata": {},
   "source": [
    "#### Metrics calculation"
   ]
  },
  {
   "cell_type": "markdown",
   "id": "guided-checkout",
   "metadata": {},
   "source": [
    "Precision"
   ]
  },
  {
   "cell_type": "code",
   "execution_count": 282,
   "id": "general-gamma",
   "metadata": {},
   "outputs": [
    {
     "data": {
      "text/plain": [
       "0.748587570621469"
      ]
     },
     "execution_count": 282,
     "metadata": {},
     "output_type": "execute_result"
    }
   ],
   "source": [
    "precision_score(test_y, predictions)"
   ]
  },
  {
   "cell_type": "markdown",
   "id": "compliant-avenue",
   "metadata": {},
   "source": [
    "Recall"
   ]
  },
  {
   "cell_type": "code",
   "execution_count": 283,
   "id": "absolute-bouquet",
   "metadata": {},
   "outputs": [
    {
     "data": {
      "text/plain": [
       "0.8520900321543409"
      ]
     },
     "execution_count": 283,
     "metadata": {},
     "output_type": "execute_result"
    }
   ],
   "source": [
    "recall_score(test_y, predictions)"
   ]
  },
  {
   "cell_type": "markdown",
   "id": "primary-cable",
   "metadata": {},
   "source": [
    "Accuracy"
   ]
  },
  {
   "cell_type": "code",
   "execution_count": 284,
   "id": "female-puppy",
   "metadata": {},
   "outputs": [
    {
     "data": {
      "text/plain": [
       "0.7602131438721137"
      ]
     },
     "execution_count": 284,
     "metadata": {},
     "output_type": "execute_result"
    }
   ],
   "source": [
    "metrics.accuracy_score(test_y, predictions)"
   ]
  },
  {
   "cell_type": "markdown",
   "id": "tender-pricing",
   "metadata": {},
   "source": [
    "F1-score"
   ]
  },
  {
   "cell_type": "code",
   "execution_count": 285,
   "id": "union-remedy",
   "metadata": {},
   "outputs": [
    {
     "data": {
      "text/plain": [
       "0.7969924812030076"
      ]
     },
     "execution_count": 285,
     "metadata": {},
     "output_type": "execute_result"
    }
   ],
   "source": [
    "f1_score(test_y, predictions)"
   ]
  },
  {
   "cell_type": "markdown",
   "id": "textile-earthquake",
   "metadata": {},
   "source": [
    "Log-loss"
   ]
  },
  {
   "cell_type": "code",
   "execution_count": 286,
   "id": "copyrighted-royalty",
   "metadata": {},
   "outputs": [
    {
     "data": {
      "text/plain": [
       "8.282071007964884"
      ]
     },
     "execution_count": 286,
     "metadata": {},
     "output_type": "execute_result"
    }
   ],
   "source": [
    "log_loss(test_y, predictions)"
   ]
  },
  {
   "cell_type": "markdown",
   "id": "possible-vietnamese",
   "metadata": {},
   "source": [
    "Precision-recall curve"
   ]
  },
  {
   "cell_type": "code",
   "execution_count": 287,
   "id": "known-scheduling",
   "metadata": {
    "scrolled": false
   },
   "outputs": [
    {
     "data": {
      "image/png": "[encoded data removed]",
      "text/plain": [
       "<Figure size 432x288 with 1 Axes>"
      ]
     },
     "metadata": {
      "needs_background": "light"
     },
     "output_type": "display_data"
    }
   ],
   "source": [
    "fig = plt.figure()\n",
    "ax = fig.add_subplot(1, 1, 1)\n",
    "\n",
    "precision, recall, threshold = precision_recall_curve(test_y, proba[:, 1])\n",
    "fpr, tpr, thr = roc_curve(test_y, proba[:, 1])\n",
    "\n",
    "ax.plot(threshold, precision[:-1], label=\"precision\")\n",
    "ax.plot(threshold, recall[:-1], label=\"recall\")\n",
    "ax.set_xlabel(\"threshold\")\n",
    "ax.set_title(\"precision-recall curve\")\n",
    "ax.legend()\n",
    "ax.grid()"
   ]
  },
  {
   "cell_type": "markdown",
   "id": "seeing-convert",
   "metadata": {},
   "source": [
    "ROC curve"
   ]
  },
  {
   "cell_type": "code",
   "execution_count": 288,
   "id": "native-worcester",
   "metadata": {
    "scrolled": true
   },
   "outputs": [
    {
     "data": {
      "image/png": "[encoded data removed]",
      "text/plain": [
       "<Figure size 432x288 with 1 Axes>"
      ]
     },
     "metadata": {
      "needs_background": "light"
     },
     "output_type": "display_data"
    }
   ],
   "source": [
    "fig = plt.figure()\n",
    "ax = fig.add_subplot(1, 1, 1)\n",
    "\n",
    "ax.plot(fpr, tpr, label='Small decision tree')\n",
    "ax.set_xlabel(\"false positive rate\")\n",
    "ax.set_ylabel(\"true positive rate\")\n",
    "ax.set_title(\"ROC curve\")\n",
    "ax.legend(loc=4)\n",
    "ax.grid()"
   ]
  },
  {
   "cell_type": "markdown",
   "id": "industrial-brown",
   "metadata": {},
   "source": [
    "#### Deep decision tree "
   ]
  },
  {
   "cell_type": "code",
   "execution_count": 289,
   "id": "tired-wheat",
   "metadata": {},
   "outputs": [
    {
     "data": {
      "text/plain": [
       "DecisionTreeClassifier(max_depth=10, random_state=100)"
      ]
     },
     "execution_count": 289,
     "metadata": {},
     "output_type": "execute_result"
    }
   ],
   "source": [
    "# Deep decision Tree\n",
    "clf = tree.DecisionTreeClassifier(random_state=100, max_depth=10)\n",
    "clf.fit(train_X, train_y)"
   ]
  },
  {
   "cell_type": "code",
   "execution_count": 290,
   "id": "bronze-cornwall",
   "metadata": {},
   "outputs": [],
   "source": [
    "# Make predictions for test data\n",
    "predictions = clf.predict(test_X)"
   ]
  },
  {
   "cell_type": "code",
   "execution_count": 291,
   "id": "center-principal",
   "metadata": {},
   "outputs": [],
   "source": [
    "# Got the probalities for classes\n",
    "proba = clf.predict_proba(test_X)"
   ]
  },
  {
   "cell_type": "markdown",
   "id": "downtown-profile",
   "metadata": {},
   "source": [
    "#### Metrics calculation"
   ]
  },
  {
   "cell_type": "markdown",
   "id": "handed-cambodia",
   "metadata": {},
   "source": [
    "Precision"
   ]
  },
  {
   "cell_type": "code",
   "execution_count": 292,
   "id": "comic-revolution",
   "metadata": {},
   "outputs": [
    {
     "data": {
      "text/plain": [
       "0.7784810126582279"
      ]
     },
     "execution_count": 292,
     "metadata": {},
     "output_type": "execute_result"
    }
   ],
   "source": [
    "precision_score(test_y, predictions)"
   ]
  },
  {
   "cell_type": "markdown",
   "id": "annoying-colon",
   "metadata": {},
   "source": [
    "Recall"
   ]
  },
  {
   "cell_type": "code",
   "execution_count": 293,
   "id": "female-opinion",
   "metadata": {},
   "outputs": [
    {
     "data": {
      "text/plain": [
       "0.7909967845659164"
      ]
     },
     "execution_count": 293,
     "metadata": {},
     "output_type": "execute_result"
    }
   ],
   "source": [
    "recall_score(test_y, predictions)"
   ]
  },
  {
   "cell_type": "markdown",
   "id": "funded-technician",
   "metadata": {},
   "source": [
    "Accuracy"
   ]
  },
  {
   "cell_type": "code",
   "execution_count": 294,
   "id": "secure-behavior",
   "metadata": {},
   "outputs": [
    {
     "data": {
      "text/plain": [
       "0.7602131438721137"
      ]
     },
     "execution_count": 294,
     "metadata": {},
     "output_type": "execute_result"
    }
   ],
   "source": [
    "metrics.accuracy_score(test_y, predictions)"
   ]
  },
  {
   "cell_type": "markdown",
   "id": "blond-brake",
   "metadata": {},
   "source": [
    "F1-score"
   ]
  },
  {
   "cell_type": "code",
   "execution_count": 295,
   "id": "undefined-tattoo",
   "metadata": {},
   "outputs": [
    {
     "data": {
      "text/plain": [
       "0.7846889952153111"
      ]
     },
     "execution_count": 295,
     "metadata": {},
     "output_type": "execute_result"
    }
   ],
   "source": [
    "f1_score(test_y, predictions)"
   ]
  },
  {
   "cell_type": "markdown",
   "id": "suffering-thousand",
   "metadata": {},
   "source": [
    "Log-loss"
   ]
  },
  {
   "cell_type": "code",
   "execution_count": 296,
   "id": "spectacular-testimony",
   "metadata": {},
   "outputs": [
    {
     "data": {
      "text/plain": [
       "8.282044023326922"
      ]
     },
     "execution_count": 296,
     "metadata": {},
     "output_type": "execute_result"
    }
   ],
   "source": [
    "log_loss(test_y, predictions)"
   ]
  },
  {
   "cell_type": "markdown",
   "id": "resident-gilbert",
   "metadata": {},
   "source": [
    "Precision-recall curve"
   ]
  },
  {
   "cell_type": "code",
   "execution_count": 297,
   "id": "medieval-stroke",
   "metadata": {
    "scrolled": false
   },
   "outputs": [
    {
     "data": {
      "image/png": "[encoded data removed]",
      "text/plain": [
       "<Figure size 432x288 with 1 Axes>"
      ]
     },
     "metadata": {
      "needs_background": "light"
     },
     "output_type": "display_data"
    }
   ],
   "source": [
    "fig = plt.figure()\n",
    "ax = fig.add_subplot(1, 1, 1)\n",
    "\n",
    "precision, recall, threshold = precision_recall_curve(test_y, proba[:, 1])\n",
    "fpr, tpr, thr = roc_curve(test_y, proba[:, 1])\n",
    "\n",
    "ax.plot(threshold, precision[:-1], label=\"precision\")\n",
    "ax.plot(threshold, recall[:-1], label=\"recall\")\n",
    "ax.set_xlabel(\"threshold\")\n",
    "ax.set_title(\"precision-recall curve\")\n",
    "ax.legend()\n",
    "ax.grid()"
   ]
  },
  {
   "cell_type": "markdown",
   "id": "distant-philadelphia",
   "metadata": {},
   "source": [
    "ROC curve"
   ]
  },
  {
   "cell_type": "code",
   "execution_count": 298,
   "id": "effective-civilian",
   "metadata": {
    "scrolled": true
   },
   "outputs": [
    {
     "data": {
      "image/png": "[encoded data removed]",
      "text/plain": [
       "<Figure size 432x288 with 1 Axes>"
      ]
     },
     "metadata": {
      "needs_background": "light"
     },
     "output_type": "display_data"
    }
   ],
   "source": [
    "fig = plt.figure()\n",
    "ax = fig.add_subplot(1, 1, 1)\n",
    "\n",
    "ax.plot(fpr, tpr, label='Deep decision tree')\n",
    "ax.set_xlabel(\"false positive rate\")\n",
    "ax.set_ylabel(\"true positive rate\")\n",
    "ax.set_title(\"ROC curve\")\n",
    "ax.legend(loc=4)\n",
    "ax.grid()"
   ]
  },
  {
   "cell_type": "markdown",
   "id": "fiscal-request",
   "metadata": {},
   "source": [
    "### Random Forest Classifier"
   ]
  },
  {
   "cell_type": "markdown",
   "id": "tropical-envelope",
   "metadata": {},
   "source": [
    "#### Random Forest on small trees"
   ]
  },
  {
   "cell_type": "code",
   "execution_count": 345,
   "id": "heard-seven",
   "metadata": {},
   "outputs": [],
   "source": [
    "# Random forest on small trees\n",
    "rf_classifier = RandomForestClassifier(n_estimators = 50, max_depth = 2, random_state = 100)"
   ]
  },
  {
   "cell_type": "code",
   "execution_count": 346,
   "id": "substantial-maryland",
   "metadata": {},
   "outputs": [
    {
     "data": {
      "text/plain": [
       "RandomForestClassifier(max_depth=2, n_estimators=50, random_state=100)"
      ]
     },
     "execution_count": 346,
     "metadata": {},
     "output_type": "execute_result"
    }
   ],
   "source": [
    "rf_classifier.fit(train_X, train_y)"
   ]
  },
  {
   "cell_type": "code",
   "execution_count": 347,
   "id": "integral-communications",
   "metadata": {},
   "outputs": [],
   "source": [
    "# Make predictions for test data\n",
    "predictions = rf_classifier.predict(test_X)"
   ]
  },
  {
   "cell_type": "code",
   "execution_count": 348,
   "id": "diagnostic-surgery",
   "metadata": {},
   "outputs": [],
   "source": [
    "# Got the probalities for classes\n",
    "proba = rf_classifier.predict_proba(test_X)"
   ]
  },
  {
   "cell_type": "code",
   "execution_count": 349,
   "id": "metric-yemen",
   "metadata": {},
   "outputs": [
    {
     "data": {
      "text/plain": [
       "array([[0.53495267, 0.46504733],\n",
       "       [0.50276636, 0.49723364],\n",
       "       [0.49053216, 0.50946784],\n",
       "       ...,\n",
       "       [0.56490459, 0.43509541],\n",
       "       [0.3722797 , 0.6277203 ],\n",
       "       [0.51452887, 0.48547113]])"
      ]
     },
     "execution_count": 349,
     "metadata": {},
     "output_type": "execute_result"
    }
   ],
   "source": [
    "proba"
   ]
  },
  {
   "cell_type": "markdown",
   "id": "central-techno",
   "metadata": {},
   "source": [
    "#### Metrics calculation"
   ]
  },
  {
   "cell_type": "markdown",
   "id": "otherwise-teddy",
   "metadata": {},
   "source": [
    "Precision"
   ]
  },
  {
   "cell_type": "code",
   "execution_count": 350,
   "id": "occasional-gather",
   "metadata": {},
   "outputs": [
    {
     "data": {
      "text/plain": [
       "0.7259475218658892"
      ]
     },
     "execution_count": 350,
     "metadata": {},
     "output_type": "execute_result"
    }
   ],
   "source": [
    "precision_score(test_y, predictions)"
   ]
  },
  {
   "cell_type": "markdown",
   "id": "gorgeous-underwear",
   "metadata": {},
   "source": [
    "Recall"
   ]
  },
  {
   "cell_type": "code",
   "execution_count": 351,
   "id": "blocked-playback",
   "metadata": {},
   "outputs": [
    {
     "data": {
      "text/plain": [
       "0.8006430868167203"
      ]
     },
     "execution_count": 351,
     "metadata": {},
     "output_type": "execute_result"
    }
   ],
   "source": [
    "recall_score(test_y, predictions)"
   ]
  },
  {
   "cell_type": "markdown",
   "id": "grateful-league",
   "metadata": {},
   "source": [
    "Accuracy"
   ]
  },
  {
   "cell_type": "code",
   "execution_count": 352,
   "id": "damaged-halifax",
   "metadata": {},
   "outputs": [
    {
     "data": {
      "text/plain": [
       "0.7229129662522202"
      ]
     },
     "execution_count": 352,
     "metadata": {},
     "output_type": "execute_result"
    }
   ],
   "source": [
    "metrics.accuracy_score(test_y, predictions)"
   ]
  },
  {
   "cell_type": "markdown",
   "id": "novel-pregnancy",
   "metadata": {},
   "source": [
    "F1-score"
   ]
  },
  {
   "cell_type": "code",
   "execution_count": 353,
   "id": "vertical-masters",
   "metadata": {},
   "outputs": [
    {
     "data": {
      "text/plain": [
       "0.7614678899082569"
      ]
     },
     "execution_count": 353,
     "metadata": {},
     "output_type": "execute_result"
    }
   ],
   "source": [
    "f1_score(test_y, predictions)"
   ]
  },
  {
   "cell_type": "markdown",
   "id": "inappropriate-decision",
   "metadata": {},
   "source": [
    "Log-loss"
   ]
  },
  {
   "cell_type": "code",
   "execution_count": 354,
   "id": "processed-orbit",
   "metadata": {},
   "outputs": [
    {
     "data": {
      "text/plain": [
       "9.570380603489351"
      ]
     },
     "execution_count": 354,
     "metadata": {},
     "output_type": "execute_result"
    }
   ],
   "source": [
    "log_loss(test_y, predictions)"
   ]
  },
  {
   "cell_type": "markdown",
   "id": "deadly-edition",
   "metadata": {},
   "source": [
    "Precision-recall curve"
   ]
  },
  {
   "cell_type": "code",
   "execution_count": 355,
   "id": "bottom-safety",
   "metadata": {
    "scrolled": false
   },
   "outputs": [
    {
     "data": {
      "image/png": "[encoded data removed]",
      "text/plain": [
       "<Figure size 432x288 with 1 Axes>"
      ]
     },
     "metadata": {
      "needs_background": "light"
     },
     "output_type": "display_data"
    }
   ],
   "source": [
    "fig = plt.figure()\n",
    "ax = fig.add_subplot(1, 1, 1)\n",
    "\n",
    "precision, recall, threshold = precision_recall_curve(test_y, proba[:, 1])\n",
    "fpr, tpr, thr = roc_curve(test_y, proba[:, 1])\n",
    "\n",
    "ax.plot(threshold, precision[:-1], label=\"precision\")\n",
    "ax.plot(threshold, recall[:-1], label=\"recall\")\n",
    "ax.set_xlabel(\"threshold\")\n",
    "ax.set_title(\"precision-recall curve\")\n",
    "ax.legend()\n",
    "ax.grid()"
   ]
  },
  {
   "cell_type": "markdown",
   "id": "anticipated-kelly",
   "metadata": {},
   "source": [
    "ROC curve"
   ]
  },
  {
   "cell_type": "code",
   "execution_count": 356,
   "id": "ultimate-paragraph",
   "metadata": {
    "scrolled": true
   },
   "outputs": [
    {
     "data": {
      "image/png": "[encoded data removed]",
      "text/plain": [
       "<Figure size 432x288 with 1 Axes>"
      ]
     },
     "metadata": {
      "needs_background": "light"
     },
     "output_type": "display_data"
    }
   ],
   "source": [
    "fig = plt.figure()\n",
    "ax = fig.add_subplot(1, 1, 1)\n",
    "\n",
    "ax.plot(fpr, tpr, label='Random forest on small trees')\n",
    "ax.set_xlabel(\"false positive rate\")\n",
    "ax.set_ylabel(\"true positive rate\")\n",
    "ax.set_title(\"ROC curve\")\n",
    "ax.legend(loc=4)\n",
    "ax.grid()"
   ]
  },
  {
   "cell_type": "markdown",
   "id": "dressed-bishop",
   "metadata": {},
   "source": [
    "#### Random Forest on deep trees"
   ]
  },
  {
   "cell_type": "code",
   "execution_count": 357,
   "id": "exact-haven",
   "metadata": {},
   "outputs": [],
   "source": [
    "# Random forest on deep trees\n",
    "rf_classifier = RandomForestClassifier(n_estimators = 50, max_depth = 10, random_state = 100)"
   ]
  },
  {
   "cell_type": "code",
   "execution_count": 358,
   "id": "common-agreement",
   "metadata": {},
   "outputs": [
    {
     "data": {
      "text/plain": [
       "RandomForestClassifier(max_depth=10, n_estimators=50, random_state=100)"
      ]
     },
     "execution_count": 358,
     "metadata": {},
     "output_type": "execute_result"
    }
   ],
   "source": [
    "rf_classifier.fit(train_X, train_y)"
   ]
  },
  {
   "cell_type": "code",
   "execution_count": 359,
   "id": "absent-calibration",
   "metadata": {},
   "outputs": [],
   "source": [
    "# Make predictions for test data\n",
    "predictions = rf_classifier.predict(test_X)"
   ]
  },
  {
   "cell_type": "code",
   "execution_count": 360,
   "id": "fluid-composition",
   "metadata": {},
   "outputs": [],
   "source": [
    "# Got the probalities for classes\n",
    "proba = rf_classifier.predict_proba(test_X)"
   ]
  },
  {
   "cell_type": "code",
   "execution_count": 361,
   "id": "liable-entertainment",
   "metadata": {},
   "outputs": [
    {
     "data": {
      "text/plain": [
       "array([[0.57093253, 0.42906747],\n",
       "       [0.46635987, 0.53364013],\n",
       "       [0.87103616, 0.12896384],\n",
       "       ...,\n",
       "       [0.72700988, 0.27299012],\n",
       "       [0.20749669, 0.79250331],\n",
       "       [0.72489912, 0.27510088]])"
      ]
     },
     "execution_count": 361,
     "metadata": {},
     "output_type": "execute_result"
    }
   ],
   "source": [
    "proba"
   ]
  },
  {
   "cell_type": "markdown",
   "id": "pretty-professor",
   "metadata": {},
   "source": [
    "#### Metrics calculation"
   ]
  },
  {
   "cell_type": "markdown",
   "id": "attended-ukraine",
   "metadata": {},
   "source": [
    "Precision"
   ]
  },
  {
   "cell_type": "code",
   "execution_count": 362,
   "id": "massive-relief",
   "metadata": {},
   "outputs": [
    {
     "data": {
      "text/plain": [
       "0.8094462540716613"
      ]
     },
     "execution_count": 362,
     "metadata": {},
     "output_type": "execute_result"
    }
   ],
   "source": [
    "precision_score(test_y, predictions)"
   ]
  },
  {
   "cell_type": "markdown",
   "id": "right-exclusion",
   "metadata": {},
   "source": [
    "Recall"
   ]
  },
  {
   "cell_type": "code",
   "execution_count": 363,
   "id": "presidential-heaven",
   "metadata": {},
   "outputs": [
    {
     "data": {
      "text/plain": [
       "0.7990353697749196"
      ]
     },
     "execution_count": 363,
     "metadata": {},
     "output_type": "execute_result"
    }
   ],
   "source": [
    "recall_score(test_y, predictions)"
   ]
  },
  {
   "cell_type": "markdown",
   "id": "downtown-india",
   "metadata": {},
   "source": [
    "Accuracy"
   ]
  },
  {
   "cell_type": "code",
   "execution_count": 364,
   "id": "single-chemical",
   "metadata": {},
   "outputs": [
    {
     "data": {
      "text/plain": [
       "0.7850799289520426"
      ]
     },
     "execution_count": 364,
     "metadata": {},
     "output_type": "execute_result"
    }
   ],
   "source": [
    "metrics.accuracy_score(test_y, predictions)"
   ]
  },
  {
   "cell_type": "markdown",
   "id": "widespread-object",
   "metadata": {},
   "source": [
    "F1-score"
   ]
  },
  {
   "cell_type": "code",
   "execution_count": 365,
   "id": "clinical-brick",
   "metadata": {},
   "outputs": [
    {
     "data": {
      "text/plain": [
       "0.8042071197411004"
      ]
     },
     "execution_count": 365,
     "metadata": {},
     "output_type": "execute_result"
    }
   ],
   "source": [
    "f1_score(test_y, predictions)"
   ]
  },
  {
   "cell_type": "markdown",
   "id": "nonprofit-walnut",
   "metadata": {},
   "source": [
    "Log-loss"
   ]
  },
  {
   "cell_type": "code",
   "execution_count": 366,
   "id": "successful-local",
   "metadata": {},
   "outputs": [
    {
     "data": {
      "text/plain": [
       "7.423159360983765"
      ]
     },
     "execution_count": 366,
     "metadata": {},
     "output_type": "execute_result"
    }
   ],
   "source": [
    "log_loss(test_y, predictions)"
   ]
  },
  {
   "cell_type": "markdown",
   "id": "generous-armor",
   "metadata": {},
   "source": [
    "Precision-recall curve"
   ]
  },
  {
   "cell_type": "code",
   "execution_count": 367,
   "id": "protecting-information",
   "metadata": {
    "scrolled": false
   },
   "outputs": [
    {
     "data": {
      "image/png": "[encoded data removed]",
      "text/plain": [
       "<Figure size 432x288 with 1 Axes>"
      ]
     },
     "metadata": {
      "needs_background": "light"
     },
     "output_type": "display_data"
    }
   ],
   "source": [
    "fig = plt.figure()\n",
    "ax = fig.add_subplot(1, 1, 1)\n",
    "\n",
    "precision, recall, threshold = precision_recall_curve(test_y, proba[:, 1])\n",
    "fpr, tpr, thr = roc_curve(test_y, proba[:, 1])\n",
    "\n",
    "ax.plot(threshold, precision[:-1], label=\"precision\")\n",
    "ax.plot(threshold, recall[:-1], label=\"recall\")\n",
    "ax.set_xlabel(\"threshold\")\n",
    "ax.set_title(\"precision-recall curve\")\n",
    "ax.legend()\n",
    "ax.grid()"
   ]
  },
  {
   "cell_type": "markdown",
   "id": "thirty-apartment",
   "metadata": {},
   "source": [
    "ROC curve"
   ]
  },
  {
   "cell_type": "code",
   "execution_count": 368,
   "id": "modified-knitting",
   "metadata": {
    "scrolled": true
   },
   "outputs": [
    {
     "data": {
      "image/png": "[encoded data removed]",
      "text/plain": [
       "<Figure size 432x288 with 1 Axes>"
      ]
     },
     "metadata": {
      "needs_background": "light"
     },
     "output_type": "display_data"
    }
   ],
   "source": [
    "fig = plt.figure()\n",
    "ax = fig.add_subplot(1, 1, 1)\n",
    "\n",
    "ax.plot(fpr, tpr, label='Random forest on deep trees')\n",
    "ax.set_xlabel(\"false positive rate\")\n",
    "ax.set_ylabel(\"true positive rate\")\n",
    "ax.set_title(\"ROC curve\")\n",
    "ax.legend(loc=4)\n",
    "ax.grid()"
   ]
  },
  {
   "cell_type": "markdown",
   "id": "agreed-honolulu",
   "metadata": {},
   "source": [
    "### A classifier that avoids False Negative errors"
   ]
  },
  {
   "cell_type": "markdown",
   "id": "separate-confidence",
   "metadata": {},
   "source": [
    "The one of the approaches to build a classifier that avoid FN errors is changing the learning rate 𝛼 for both the classes should be different. So by using the weight update scheme with Random Forest Classifier on deep trees (max depth = 10) and set class weights as 1 for 0 class and 100 for 1 class, got the following results:"
   ]
  },
  {
   "cell_type": "code",
   "execution_count": 405,
   "id": "advance-cable",
   "metadata": {},
   "outputs": [],
   "source": [
    "# Random forest on small trees\n",
    "rf_classifier = RandomForestClassifier(n_estimators = 50, max_depth = 10, class_weight={0: 1, 1: 100}, random_state = 100)"
   ]
  },
  {
   "cell_type": "code",
   "execution_count": 406,
   "id": "substantial-maryland",
   "metadata": {},
   "outputs": [
    {
     "data": {
      "text/plain": [
       "RandomForestClassifier(class_weight={0: 1, 1: 100}, max_depth=10,\n",
       "                       n_estimators=50, random_state=100)"
      ]
     },
     "execution_count": 406,
     "metadata": {},
     "output_type": "execute_result"
    }
   ],
   "source": [
    "rf_classifier.fit(train_X, train_y)"
   ]
  },
  {
   "cell_type": "code",
   "execution_count": 407,
   "id": "integral-communications",
   "metadata": {},
   "outputs": [],
   "source": [
    "# Make predictions for test data\n",
    "predictions = rf_classifier.predict(test_X)"
   ]
  },
  {
   "cell_type": "code",
   "execution_count": 408,
   "id": "diagnostic-surgery",
   "metadata": {},
   "outputs": [],
   "source": [
    "# Got the probalities for classes\n",
    "proba = rf_classifier.predict_proba(test_X)"
   ]
  },
  {
   "cell_type": "code",
   "execution_count": 409,
   "id": "metric-yemen",
   "metadata": {},
   "outputs": [
    {
     "data": {
      "text/plain": [
       "array([[0.10613232, 0.89386768],\n",
       "       [0.07065404, 0.92934596],\n",
       "       [0.10955115, 0.89044885],\n",
       "       ...,\n",
       "       [0.01186062, 0.98813938],\n",
       "       [0.08614368, 0.91385632],\n",
       "       [0.01112458, 0.98887542]])"
      ]
     },
     "execution_count": 409,
     "metadata": {},
     "output_type": "execute_result"
    }
   ],
   "source": [
    "proba"
   ]
  },
  {
   "cell_type": "markdown",
   "id": "central-techno",
   "metadata": {},
   "source": [
    "#### Metrics calculation"
   ]
  },
  {
   "cell_type": "markdown",
   "id": "otherwise-teddy",
   "metadata": {},
   "source": [
    "Precision"
   ]
  },
  {
   "cell_type": "code",
   "execution_count": 410,
   "id": "occasional-gather",
   "metadata": {},
   "outputs": [
    {
     "data": {
      "text/plain": [
       "0.5575539568345323"
      ]
     },
     "execution_count": 410,
     "metadata": {},
     "output_type": "execute_result"
    }
   ],
   "source": [
    "precision_score(test_y, predictions)"
   ]
  },
  {
   "cell_type": "markdown",
   "id": "gorgeous-underwear",
   "metadata": {},
   "source": [
    "Recall"
   ]
  },
  {
   "cell_type": "code",
   "execution_count": 411,
   "id": "blocked-playback",
   "metadata": {},
   "outputs": [
    {
     "data": {
      "text/plain": [
       "0.9967845659163987"
      ]
     },
     "execution_count": 411,
     "metadata": {},
     "output_type": "execute_result"
    }
   ],
   "source": [
    "recall_score(test_y, predictions)"
   ]
  },
  {
   "cell_type": "markdown",
   "id": "grateful-league",
   "metadata": {},
   "source": [
    "Accuracy"
   ]
  },
  {
   "cell_type": "code",
   "execution_count": 412,
   "id": "damaged-halifax",
   "metadata": {},
   "outputs": [
    {
     "data": {
      "text/plain": [
       "0.5612788632326821"
      ]
     },
     "execution_count": 412,
     "metadata": {},
     "output_type": "execute_result"
    }
   ],
   "source": [
    "metrics.accuracy_score(test_y, predictions)"
   ]
  },
  {
   "cell_type": "markdown",
   "id": "novel-pregnancy",
   "metadata": {},
   "source": [
    "F1-score"
   ]
  },
  {
   "cell_type": "code",
   "execution_count": 413,
   "id": "vertical-masters",
   "metadata": {},
   "outputs": [
    {
     "data": {
      "text/plain": [
       "0.7151095732410611"
      ]
     },
     "execution_count": 413,
     "metadata": {},
     "output_type": "execute_result"
    }
   ],
   "source": [
    "f1_score(test_y, predictions)"
   ]
  },
  {
   "cell_type": "markdown",
   "id": "inappropriate-decision",
   "metadata": {},
   "source": [
    "Log-loss"
   ]
  },
  {
   "cell_type": "code",
   "execution_count": 414,
   "id": "processed-orbit",
   "metadata": {},
   "outputs": [
    {
     "data": {
      "text/plain": [
       "15.15324062257685"
      ]
     },
     "execution_count": 414,
     "metadata": {},
     "output_type": "execute_result"
    }
   ],
   "source": [
    "log_loss(test_y, predictions)"
   ]
  },
  {
   "cell_type": "markdown",
   "id": "deadly-edition",
   "metadata": {},
   "source": [
    "Precision-recall curve"
   ]
  },
  {
   "cell_type": "code",
   "execution_count": 415,
   "id": "bottom-safety",
   "metadata": {
    "scrolled": false
   },
   "outputs": [
    {
     "data": {
      "image/png": "[encoded data removed]",
      "text/plain": [
       "<Figure size 432x288 with 1 Axes>"
      ]
     },
     "metadata": {
      "needs_background": "light"
     },
     "output_type": "display_data"
    }
   ],
   "source": [
    "fig = plt.figure()\n",
    "ax = fig.add_subplot(1, 1, 1)\n",
    "\n",
    "precision, recall, threshold = precision_recall_curve(test_y, proba[:, 1])\n",
    "fpr, tpr, thr = roc_curve(test_y, proba[:, 1])\n",
    "\n",
    "ax.plot(threshold, precision[:-1], label=\"precision\")\n",
    "ax.plot(threshold, recall[:-1], label=\"recall\")\n",
    "ax.set_xlabel(\"threshold\")\n",
    "ax.set_title(\"precision-recall curve\")\n",
    "ax.legend()\n",
    "ax.grid()"
   ]
  },
  {
   "cell_type": "markdown",
   "id": "anticipated-kelly",
   "metadata": {},
   "source": [
    "ROC curve"
   ]
  },
  {
   "cell_type": "code",
   "execution_count": 416,
   "id": "ultimate-paragraph",
   "metadata": {
    "scrolled": true
   },
   "outputs": [
    {
     "data": {
      "image/png": "[encoded data removed]",
      "text/plain": [
       "<Figure size 432x288 with 1 Axes>"
      ]
     },
     "metadata": {
      "needs_background": "light"
     },
     "output_type": "display_data"
    }
   ],
   "source": [
    "fig = plt.figure()\n",
    "ax = fig.add_subplot(1, 1, 1)\n",
    "\n",
    "ax.plot(fpr, tpr, label='Random forest on small trees')\n",
    "ax.set_xlabel(\"false positive rate\")\n",
    "ax.set_ylabel(\"true positive rate\")\n",
    "ax.set_title(\"ROC curve\")\n",
    "ax.legend(loc=4)\n",
    "ax.grid()"
   ]
  }
 ],
 "metadata": {
  "kernelspec": {
   "display_name": "Python 3",
   "language": "python",
   "name": "python3"
  },
  "language_info": {
   "codemirror_mode": {
    "name": "ipython",
    "version": 3
   },
   "file_extension": ".py",
   "mimetype": "text/x-python",
   "name": "python",
   "nbconvert_exporter": "python",
   "pygments_lexer": "ipython3",
   "version": "3.7.5"
  }
 },
 "nbformat": 4,
 "nbformat_minor": 5
}
